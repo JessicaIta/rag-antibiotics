{
 "cells": [
  {
   "cell_type": "markdown",
   "id": "0fb7d5f8-52df-47f0-b228-40bf77d38974",
   "metadata": {},
   "source": [
    "# RAG Antibiotics Chat"
   ]
  },
  {
   "cell_type": "code",
   "execution_count": 1,
   "id": "973ba9e4-c389-488e-8587-ce8f025bf564",
   "metadata": {},
   "outputs": [],
   "source": [
    "import os\n",
    "import uuid\n",
    "import time\n",
    "\n",
    "from langchain_community.document_loaders import PyMuPDFLoader\n",
    "from langchain_text_splitters import RecursiveCharacterTextSplitter\n",
    "from sentence_transformers import SentenceTransformer\n",
    "from langchain_ollama import ChatOllama\n",
    "import chromadb\n",
    "from chromadb.config import Settings"
   ]
  },
  {
   "cell_type": "code",
   "execution_count": 2,
   "id": "b3c6f648-ae6b-4fbe-8640-76ce1e21fcde",
   "metadata": {},
   "outputs": [],
   "source": [
    "# Embedding Model\n",
    "\n",
    "model = SentenceTransformer(\"all-MiniLM-L6-v2\")"
   ]
  },
  {
   "cell_type": "code",
   "execution_count": 3,
   "id": "337ae255-f112-49d5-b8c2-b4280483a7fe",
   "metadata": {},
   "outputs": [],
   "source": [
    "# Load Documents\n",
    "def load_split_documents(path):\n",
    "    loader = PyMuPDFLoader(path,\n",
    "        extract_tables=\"markdown\",\n",
    "    )\n",
    "    docs = loader.load()\n",
    "\n",
    "    recursive_splitter = RecursiveCharacterTextSplitter(\n",
    "        separators=\"\\n\",\n",
    "        chunk_size=512,\n",
    "        chunk_overlap=20\n",
    "    )\n",
    "\n",
    "    # chunked documents\n",
    "    chunked_documents = recursive_splitter.split_documents(docs)\n",
    "\n",
    "    return chunked_documents\n"
   ]
  },
  {
   "cell_type": "code",
   "execution_count": 4,
   "id": "be7fa78f-59f8-4163-a08e-612280a2bbf2",
   "metadata": {},
   "outputs": [],
   "source": [
    "\n",
    "# Vector Database\n",
    "def add_vector_chroma(col_name, db_name, chunked_documents):\n",
    "\n",
    "    sentences = [doc.page_content for doc in chunked_documents]\n",
    "\n",
    "    metadatas = [{\"titulo\": doc.metadata.get(\"title\", \"\")} for doc in chunked_documents]\n",
    "\n",
    "    embeddings = model.encode(sentences).tolist()\n",
    "\n",
    "    client = chromadb.PersistentClient(path=db_name)\n",
    "\n",
    "    collection = client.get_or_create_collection(name=col_name)\n",
    "    \n",
    "    ids = [str(uuid.uuid4()) for _ in sentences]\n",
    "    collection.add(\n",
    "        ids=ids,\n",
    "        documents=sentences,\n",
    "        embeddings=embeddings,\n",
    "        metadatas = metadatas\n",
    "    )\n",
    "\n"
   ]
  },
  {
   "cell_type": "code",
   "execution_count": 5,
   "id": "4834f297-c918-40e3-af2d-aa41adf0a56d",
   "metadata": {},
   "outputs": [],
   "source": [
    "# Percorre todos os arquivos do diretório\n",
    "\n",
    "path = \"pdf/\"\n",
    "\n",
    "for arquivo in os.listdir(path):\n",
    "    if arquivo.lower().endswith('.pdf'):  \n",
    "        path_pdf = os.path.join(path, arquivo)\n",
    "        chunked_documents = load_split_documents(path_pdf)\n",
    "        add_vector_chroma(\"database\", \"db\", chunked_documents)"
   ]
  },
  {
   "cell_type": "markdown",
   "id": "9c849d96-17e0-490f-9ae0-58ecd2b65480",
   "metadata": {},
   "source": [
    "## Retrieve ChromaDB"
   ]
  },
  {
   "cell_type": "code",
   "execution_count": 6,
   "id": "80d54a8a-c58f-4101-b84e-f95e22e04a74",
   "metadata": {},
   "outputs": [],
   "source": [
    "#Initialize chroma db\n",
    "\n",
    "def initialize_chromadb(db_name):\n",
    "    \n",
    "    client = chromadb.PersistentClient(path=db_name) \n",
    "\n",
    "    return client"
   ]
  },
  {
   "cell_type": "code",
   "execution_count": 7,
   "id": "34fbd124-eee0-4dee-9eda-a511dea95974",
   "metadata": {},
   "outputs": [
    {
     "data": {
      "text/plain": [
       "945"
      ]
     },
     "execution_count": 7,
     "metadata": {},
     "output_type": "execute_result"
    }
   ],
   "source": [
    "# Instantiate Vector Database\n",
    "\n",
    "client = initialize_chromadb(\"db\")\n",
    "\n",
    "# Listando as collections existentes\n",
    "collections = client.list_collections()\n",
    "\n",
    "# Recuperando a primeira coleção\n",
    "col = client.get_or_create_collection(collections[0].name)\n",
    "\n",
    "# Verificando a quantidade de itens na coleção\n",
    "col.count()"
   ]
  },
  {
   "cell_type": "code",
   "execution_count": 8,
   "id": "102fb7a5-3a30-45ea-bd9c-1af3357bd783",
   "metadata": {},
   "outputs": [],
   "source": [
    "# Retriver do banco vetorial do Chroma\n",
    "\n",
    "def chroma_retriever(query, top_k=8):\n",
    "    \n",
    "    query_vec = model.encode(query)\n",
    "   \n",
    "    result = col.query(\n",
    "        query_embeddings=[query_vec],\n",
    "        n_results=top_k\n",
    "    )\n",
    "    return result[\"documents\"][0]"
   ]
  },
  {
   "cell_type": "markdown",
   "id": "d1871f39-8bb6-460a-bf01-7fc524929971",
   "metadata": {},
   "source": [
    "## LLM and Answers"
   ]
  },
  {
   "cell_type": "code",
   "execution_count": 9,
   "id": "5eba2d5c-6ef9-4b49-a81b-f8d57bcab9cb",
   "metadata": {},
   "outputs": [],
   "source": [
    "from langchain_core.messages import ChatMessage, SystemMessage, HumanMessage"
   ]
  },
  {
   "cell_type": "code",
   "execution_count": 24,
   "id": "9b746fdd-7b62-44dc-aa07-3a3c805fe098",
   "metadata": {},
   "outputs": [],
   "source": [
    "system_prompt = \"\"\" You are a doctor's answering task \n",
    "    assistant. Use the following parts of \n",
    "    the retrieved context to answer the \n",
    "    question. Response according to \n",
    "    context. Context: {context}\n",
    "    Translate the answer \n",
    "    to portuguese. \n",
    "    \"\"\""
   ]
  },
  {
   "cell_type": "code",
   "execution_count": 25,
   "id": "5802ad1c-fc33-4f34-8b86-7e58da86e96b",
   "metadata": {},
   "outputs": [],
   "source": [
    "MODEL_LLAMA = \"llama3.2:3b\"\n",
    "MODEL_GEMMA = \"gemma3:1b\"\n",
    "MODEL_DEEPSEEK = \"deepseek-r1:1.5b\"\n",
    "\n",
    "# declare the model\n",
    "llm = ChatOllama(\n",
    "    model= MODEL_LLAMA,\n",
    "    temperature=0.1\n",
    ")"
   ]
  },
  {
   "cell_type": "code",
   "execution_count": 26,
   "id": "3738bb33-af27-44a8-9500-01e029bb3ba9",
   "metadata": {},
   "outputs": [],
   "source": [
    "def generate_answer(llm, question):\n",
    "    \n",
    "    context = chroma_retriever(question)\n",
    "    \n",
    "    system_prompt_fmt = system_prompt.format(context=context)\n",
    "\n",
    "    response = llm.invoke([SystemMessage(content=system_prompt_fmt),\n",
    "                          HumanMessage(content=question)])\n",
    "    \n",
    "    return response.content"
   ]
  },
  {
   "cell_type": "markdown",
   "id": "f08930b3-7a25-44a1-a8dc-4ec8c607a2e9",
   "metadata": {},
   "source": [
    "## Testes"
   ]
  },
  {
   "cell_type": "code",
   "execution_count": 27,
   "id": "33cba90f-ff11-4003-aabc-bae62bf69441",
   "metadata": {},
   "outputs": [
    {
     "name": "stdout",
     "output_type": "stream",
     "text": [
      "A combinação de antibióticos não é sugerida para infecções causadas por P. aeruginosa com resistência a DTR (Derechos de Tratamiento Resistente) se a suscetibilidade a ceftolozane-tazobactam, ceftazidime-avibactam, imipenem-cilastatin-relebactam ou cefiderocol forneceu resultados positivos.\n",
      "\n",
      "Em vez disso, o tratamento sugere que, quando os isolados de P. aeruginosa são suscetíveis a agentes não-carbapenêmicos tradicionais (como piperacilina-tazobactam, ceftazidime e cefepime), a terapia com antibióticos aminoglucosídeos e polimixinas pode ser considerada. Além disso, se os isolados de P. aeruginosa são suscetíveis a um agente β-lactâmico, a combinação de tobramicina com esse agente não oferece benefícios adicionais sobre o tratamento com monoterapia com o agente β-lactâmico.\n",
      "\n",
      "Se nenhum agente β-lactâmico demonstrar atividade contra P. aeruginosa com resistência a DTR, a tobramicina pode ser considerada como uma opção alternativa para o tratamento de infecções urinárias ou cistite urinária causadas por essas bactérias.\n",
      "\n",
      "É importante notar que os estudos disponíveis não incluem pacientes infectados por P. aeruginosa com tipos de resistência a DTR, e portanto, não há evidências suficientes para recomendar o uso de combinação de antibióticos nesse caso específico.\n",
      "Tempo de execução: 30.9192 segundos\n"
     ]
    }
   ],
   "source": [
    "inicio = time.time()\n",
    "\n",
    "print(generate_answer(llm, \"What Is the Role of Combination Antibiotic Therapy for the Treatment of Infections Caused by DTR P. aeruginosa?\"))\n",
    "\n",
    "fim = time.time()\n",
    "print(f\"Tempo de execução: {fim - inicio:.4f} segundos\")"
   ]
  },
  {
   "cell_type": "code",
   "execution_count": 28,
   "id": "782838a1-94fa-4d76-8e19-709d615b5510",
   "metadata": {},
   "outputs": [
    {
     "name": "stdout",
     "output_type": "stream",
     "text": [
      "Infelizmente, o documento não menciona a Levofloxacina como opção de tratamento. No entanto, posso fornecer informações sobre a Indicação e Dose de Minociclina e Tigeciclina, que são as duas opções apresentadas no documento.\n",
      "\n",
      "**Minociclina:**\n",
      "\n",
      "* Indicação: Infeções bacterianas graves, incluindo sepsis, meningite, osteomielite, etc.\n",
      "* Dose:\n",
      " + Sulbactam 1 g IV a cada 4 horas por 3 horas\n",
      " + Durlobactam 1 g IV a cada 4 horas por 3 horas (em combinação com sulbactam)\n",
      " + Minociclina 200 mg IV como dose única, seguida de 100 mg IV a cada 12 horas\n",
      "\n",
      "**Tigeciclina:**\n",
      "\n",
      "* Indicação: Infeções bacterianas graves que são resistentes ou não respondem a outros antibióticos.\n",
      "* Dose:\n",
      " + 200 mg IV como dose única, seguida de 100 mg IV a cada 12 horas\n",
      "Tempo de execução: 57.9171 segundos\n"
     ]
    }
   ],
   "source": [
    "inicio = time.time()\n",
    "\n",
    "print(generate_answer(llm, \"What is the indication and dosage of Levofloxacin and Minocycline according to the document?\"))\n",
    "\n",
    "fim = time.time()\n",
    "print(f\"Tempo de execução: {fim - inicio:.4f} segundos\")"
   ]
  },
  {
   "cell_type": "code",
   "execution_count": 29,
   "id": "23f63e50-d528-4c76-8239-f45cb0a56168",
   "metadata": {},
   "outputs": [
    {
     "name": "stdout",
     "output_type": "stream",
     "text": [
      "A abordagem geral para o tratamento de infecções causadas por CRAB é administrar terapia combinada com pelo menos 2 agentes, até que seja observado uma resposta clínica adequada. É também sugerido que, no mínimo, um dos agentes na combinação seja baseado em sulbactam. A combinação mais preferida de sulbactam é a sulbactam-durlobactam em combinação com imipenem ou meropenem.\n",
      "\n",
      "Além disso, é importante considerar os seguintes pontos:\n",
      "\n",
      "* A falta de dados robustos que apoiem o tratamento de infecções por CRAB com qualquer agente individualmente demonstrado a ser eficaz in vitro;\n",
      "* O uso de 2 agentes pode aumentar a probabilidade de administrar pelo menos um agente ativo;\n",
      "* As altas cargas bacterianas esperadas nos casos de infecção por CRAB, devido à presença quase universal do patógeno.\n",
      "\n",
      "É importante notar que existem muitos estudos observacionais que avaliam a eficácia da terapia combinada em comparação com a monoterapia para o tratamento de infecções por CRAB, com resultados variados.\n",
      "Tempo de execução: 58.4064 segundos\n"
     ]
    }
   ],
   "source": [
    "inicio = time.time()\n",
    "\n",
    "print(generate_answer(llm, \"What Is the General Approach for the Treatment of Infections Caused by CRAB??\"))\n",
    "\n",
    "fim = time.time()\n",
    "print(f\"Tempo de execução: {fim - inicio:.4f} segundos\")"
   ]
  },
  {
   "cell_type": "code",
   "execution_count": 30,
   "id": "02afee1b-700c-49f7-b644-2198ff7bbf79",
   "metadata": {},
   "outputs": [
    {
     "name": "stdout",
     "output_type": "stream",
     "text": [
      "Os fluoroquinolônios não parecem fornecer benefícios significativos como monoterapia, mas podem oferecer algum valor aditivo quando administrados em combinação com outros agentes.\n",
      "\n",
      "É recomendado o uso de levofloxacina como componente de terapias combinadas, pois é uma opção para o tratamento de infecções causadas por S. maltophilia.\n",
      "Tempo de execução: 44.3719 segundos\n"
     ]
    }
   ],
   "source": [
    "inicio = time.time()\n",
    "\n",
    "print(generate_answer(llm, \"What is the role of fluoroquinolones in the treatment of infections caused by S. maltophilia??\"))\n",
    "\n",
    "fim = time.time()\n",
    "print(f\"Tempo de execução: {fim - inicio:.4f} segundos\")"
   ]
  },
  {
   "cell_type": "code",
   "execution_count": 31,
   "id": "b51423c0-a57c-4ff9-99ce-20a1428e62d5",
   "metadata": {},
   "outputs": [
    {
     "name": "stdout",
     "output_type": "stream",
     "text": [
      "O papel do cefiderocol no tratamento de infecções causadas por S. maltophilia é o uso como um componente da terapia combinada, pelo menos até que seja observado melhoria clínica. Ele é uma agente preferido para o tratamento de infecções por S. maltophilia, especialmente considerando a suscetibilidade de isolados de S. maltophilia ao cefiderocol, que se aproxima 100%.\n",
      "Tempo de execução: 49.0402 segundos\n"
     ]
    }
   ],
   "source": [
    "inicio = time.time()\n",
    "\n",
    "print(generate_answer(llm, \"What Is the Role of Cefiderocol for the Treatment of Infections Caused by S. maltophilia?\"))\n",
    "\n",
    "fim = time.time()\n",
    "print(f\"Tempo de execução: {fim - inicio:.4f} segundos\")"
   ]
  },
  {
   "cell_type": "code",
   "execution_count": null,
   "id": "4ac35244-aa5c-4779-885c-582affb3740d",
   "metadata": {},
   "outputs": [],
   "source": []
  }
 ],
 "metadata": {
  "kernelspec": {
   "display_name": "Python 3 (ipykernel)",
   "language": "python",
   "name": "python3"
  },
  "language_info": {
   "codemirror_mode": {
    "name": "ipython",
    "version": 3
   },
   "file_extension": ".py",
   "mimetype": "text/x-python",
   "name": "python",
   "nbconvert_exporter": "python",
   "pygments_lexer": "ipython3",
   "version": "3.12.3"
  }
 },
 "nbformat": 4,
 "nbformat_minor": 5
}
